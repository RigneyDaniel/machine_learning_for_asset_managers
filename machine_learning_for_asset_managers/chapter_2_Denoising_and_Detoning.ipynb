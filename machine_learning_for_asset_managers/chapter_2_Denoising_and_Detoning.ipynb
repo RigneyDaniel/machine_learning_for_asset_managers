{
 "cells": [
  {
   "cell_type": "markdown",
   "id": "98f7fe09-5fb7-4219-874a-9218b45e8923",
   "metadata": {},
   "source": [
    "# Machine Learning for Asset Managers\n",
    "# Marcos Lopez de Prado\n",
    "\n",
    "## Chapter 2: Denoising and Detoning"
   ]
  },
  {
   "cell_type": "markdown",
   "id": "87884d33-6ca6-45b6-886e-b9bf09e9a87f",
   "metadata": {},
   "source": []
  },
  {
   "cell_type": "code",
   "execution_count": null,
   "id": "c8853b65-5bdc-47ce-ad2a-4a29e15b5b59",
   "metadata": {},
   "outputs": [],
   "source": [
    "# Marrcenko-Pastur PDF"
   ]
  }
 ],
 "metadata": {
  "kernelspec": {
   "display_name": "Python 3",
   "language": "python",
   "name": "python3"
  },
  "language_info": {
   "codemirror_mode": {
    "name": "ipython",
    "version": 3
   },
   "file_extension": ".py",
   "mimetype": "text/x-python",
   "name": "python",
   "nbconvert_exporter": "python",
   "pygments_lexer": "ipython3",
   "version": "3.7.10"
  }
 },
 "nbformat": 4,
 "nbformat_minor": 5
}
