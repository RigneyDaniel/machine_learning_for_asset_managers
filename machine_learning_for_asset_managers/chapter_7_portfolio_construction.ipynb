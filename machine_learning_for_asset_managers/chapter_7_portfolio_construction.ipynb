{
 "cells": [
  {
   "cell_type": "markdown",
   "id": "f48ea025-d54f-4a2f-8aa3-2481244f1640",
   "metadata": {},
   "source": [
    "# Machine Learning for Asset Managers\n",
    "# Marcos Lopez de Prado\n",
    "\n",
    "## Chapter 7: Portfolio Construction"
   ]
  },
  {
   "cell_type": "code",
   "execution_count": null,
   "id": "c4cb31af-fab4-4457-acc4-93973404689f",
   "metadata": {},
   "outputs": [],
   "source": []
  },
  {
   "cell_type": "code",
   "execution_count": null,
   "id": "c627a95d-c672-44ca-885c-f486503e0f05",
   "metadata": {},
   "outputs": [],
   "source": []
  },
  {
   "cell_type": "code",
   "execution_count": null,
   "id": "1168e64d-d262-4398-bc6c-6d4cffadba29",
   "metadata": {},
   "outputs": [],
   "source": [
    "# Snippet 7.1 Composition oof Block-Diagonal Correlation Matrices\n",
    "\n",
    "import maplotlib.pyplot as mpl\n",
    "import seaborn as sns\n",
    "import numpy as np\n",
    "\n",
    "corr0 = formBlockMatrix(2,2,0.5)\n"
   ]
  }
 ],
 "metadata": {
  "kernelspec": {
   "display_name": "Python 3",
   "language": "python",
   "name": "python3"
  },
  "language_info": {
   "codemirror_mode": {
    "name": "ipython",
    "version": 3
   },
   "file_extension": ".py",
   "mimetype": "text/x-python",
   "name": "python",
   "nbconvert_exporter": "python",
   "pygments_lexer": "ipython3",
   "version": "3.7.10"
  }
 },
 "nbformat": 4,
 "nbformat_minor": 5
}
